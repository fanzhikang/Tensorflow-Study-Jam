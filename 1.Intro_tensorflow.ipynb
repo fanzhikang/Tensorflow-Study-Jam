{
 "cells": [
  {
   "cell_type": "markdown",
   "metadata": {},
   "source": [
    "## 第一章 TensorFlow 介绍"
   ]
  },
  {
   "cell_type": "code",
   "execution_count": 1,
   "metadata": {},
   "outputs": [],
   "source": [
    "%config IPCompleter.greedy = True"
   ]
  },
  {
   "cell_type": "code",
   "execution_count": 2,
   "metadata": {},
   "outputs": [
    {
     "name": "stdout",
     "output_type": "stream",
     "text": [
      "2.1.0\n"
     ]
    }
   ],
   "source": [
    "import tensorflow as tf\n",
    "from tensorflow import keras\n",
    "\n",
    "print(tf.__version__)"
   ]
  },
  {
   "cell_type": "code",
   "execution_count": 3,
   "metadata": {},
   "outputs": [],
   "source": [
    "model = keras.Sequential([keras.layers.Dense(units=1, input_shape=[1])])"
   ]
  },
  {
   "cell_type": "code",
   "execution_count": 4,
   "metadata": {},
   "outputs": [],
   "source": [
    "model.compile(optimizer='sgd', loss='mse')"
   ]
  },
  {
   "cell_type": "code",
   "execution_count": 5,
   "metadata": {},
   "outputs": [],
   "source": [
    "import numpy as np\n",
    "\n",
    "xs = np.array([-1.0, 0.0, 1.0, 2.0, 3.0, 4.0], dtype=float)\n",
    "ys = np.array([-3.0, -1.0, 1.0, 3.0, 5.0, 7.0], dtype=float)\n"
   ]
  },
  {
   "cell_type": "code",
   "execution_count": 6,
   "metadata": {},
   "outputs": [
    {
     "name": "stdout",
     "output_type": "stream",
     "text": [
      "Train on 6 samples\n",
      "Epoch 1/100\n",
      "6/6 [==============================] - 0s 27ms/sample - loss: 59.8285\n",
      "Epoch 2/100\n",
      "6/6 [==============================] - 0s 206us/sample - loss: 47.5008\n",
      "Epoch 3/100\n",
      "6/6 [==============================] - 0s 225us/sample - loss: 37.7930\n",
      "Epoch 4/100\n",
      "6/6 [==============================] - 0s 228us/sample - loss: 30.1468\n",
      "Epoch 5/100\n",
      "6/6 [==============================] - 0s 200us/sample - loss: 24.1226\n",
      "Epoch 6/100\n",
      "6/6 [==============================] - 0s 202us/sample - loss: 19.3748\n",
      "Epoch 7/100\n",
      "6/6 [==============================] - 0s 201us/sample - loss: 15.6312\n",
      "Epoch 8/100\n",
      "6/6 [==============================] - 0s 211us/sample - loss: 12.6781\n",
      "Epoch 9/100\n",
      "6/6 [==============================] - 0s 293us/sample - loss: 10.3468\n",
      "Epoch 10/100\n",
      "6/6 [==============================] - 0s 324us/sample - loss: 8.5051\n",
      "Epoch 11/100\n",
      "6/6 [==============================] - 0s 321us/sample - loss: 7.0486\n",
      "Epoch 12/100\n",
      "6/6 [==============================] - 0s 292us/sample - loss: 5.8953\n",
      "Epoch 13/100\n",
      "6/6 [==============================] - 0s 264us/sample - loss: 4.9809\n",
      "Epoch 14/100\n",
      "6/6 [==============================] - 0s 284us/sample - loss: 4.2543\n",
      "Epoch 15/100\n",
      "6/6 [==============================] - 0s 347us/sample - loss: 3.6758\n",
      "Epoch 16/100\n",
      "6/6 [==============================] - 0s 297us/sample - loss: 3.2140\n",
      "Epoch 17/100\n",
      "6/6 [==============================] - 0s 271us/sample - loss: 2.8440\n",
      "Epoch 18/100\n",
      "6/6 [==============================] - 0s 234us/sample - loss: 2.5464\n",
      "Epoch 19/100\n",
      "6/6 [==============================] - 0s 313us/sample - loss: 2.3059\n",
      "Epoch 20/100\n",
      "6/6 [==============================] - 0s 484us/sample - loss: 2.1105\n",
      "Epoch 21/100\n",
      "6/6 [==============================] - 0s 338us/sample - loss: 1.9507\n",
      "Epoch 22/100\n",
      "6/6 [==============================] - 0s 297us/sample - loss: 1.8190\n",
      "Epoch 23/100\n",
      "6/6 [==============================] - 0s 354us/sample - loss: 1.7096\n",
      "Epoch 24/100\n",
      "6/6 [==============================] - 0s 280us/sample - loss: 1.6177\n",
      "Epoch 25/100\n",
      "6/6 [==============================] - 0s 251us/sample - loss: 1.5399\n",
      "Epoch 26/100\n",
      "6/6 [==============================] - 0s 297us/sample - loss: 1.4732\n",
      "Epoch 27/100\n",
      "6/6 [==============================] - 0s 276us/sample - loss: 1.4153\n",
      "Epoch 28/100\n",
      "6/6 [==============================] - 0s 375us/sample - loss: 1.3645\n",
      "Epoch 29/100\n",
      "6/6 [==============================] - 0s 318us/sample - loss: 1.3194\n",
      "Epoch 30/100\n",
      "6/6 [==============================] - 0s 269us/sample - loss: 1.2788\n",
      "Epoch 31/100\n",
      "6/6 [==============================] - 0s 327us/sample - loss: 1.2420\n",
      "Epoch 32/100\n",
      "6/6 [==============================] - 0s 285us/sample - loss: 1.2081\n",
      "Epoch 33/100\n",
      "6/6 [==============================] - 0s 255us/sample - loss: 1.1768\n",
      "Epoch 34/100\n",
      "6/6 [==============================] - 0s 271us/sample - loss: 1.1474\n",
      "Epoch 35/100\n",
      "6/6 [==============================] - 0s 257us/sample - loss: 1.1198\n",
      "Epoch 36/100\n",
      "6/6 [==============================] - 0s 245us/sample - loss: 1.0936\n",
      "Epoch 37/100\n",
      "6/6 [==============================] - 0s 271us/sample - loss: 1.0686\n",
      "Epoch 38/100\n",
      "6/6 [==============================] - 0s 273us/sample - loss: 1.0447\n",
      "Epoch 39/100\n",
      "6/6 [==============================] - 0s 249us/sample - loss: 1.0217\n",
      "Epoch 40/100\n",
      "6/6 [==============================] - 0s 255us/sample - loss: 0.9995\n",
      "Epoch 41/100\n",
      "6/6 [==============================] - 0s 285us/sample - loss: 0.9780\n",
      "Epoch 42/100\n",
      "6/6 [==============================] - 0s 254us/sample - loss: 0.9572\n",
      "Epoch 43/100\n",
      "6/6 [==============================] - 0s 321us/sample - loss: 0.9369\n",
      "Epoch 44/100\n",
      "6/6 [==============================] - 0s 312us/sample - loss: 0.9172\n",
      "Epoch 45/100\n",
      "6/6 [==============================] - 0s 291us/sample - loss: 0.8980\n",
      "Epoch 46/100\n",
      "6/6 [==============================] - 0s 249us/sample - loss: 0.8792\n",
      "Epoch 47/100\n",
      "6/6 [==============================] - 0s 292us/sample - loss: 0.8610\n",
      "Epoch 48/100\n",
      "6/6 [==============================] - 0s 332us/sample - loss: 0.8431\n",
      "Epoch 49/100\n",
      "6/6 [==============================] - 0s 315us/sample - loss: 0.8256\n",
      "Epoch 50/100\n",
      "6/6 [==============================] - 0s 257us/sample - loss: 0.8086\n",
      "Epoch 51/100\n",
      "6/6 [==============================] - 0s 325us/sample - loss: 0.7919\n",
      "Epoch 52/100\n",
      "6/6 [==============================] - 0s 303us/sample - loss: 0.7755\n",
      "Epoch 53/100\n",
      "6/6 [==============================] - 0s 256us/sample - loss: 0.7596\n",
      "Epoch 54/100\n",
      "6/6 [==============================] - 0s 250us/sample - loss: 0.7439\n",
      "Epoch 55/100\n",
      "6/6 [==============================] - 0s 305us/sample - loss: 0.7286\n",
      "Epoch 56/100\n",
      "6/6 [==============================] - 0s 261us/sample - loss: 0.7136\n",
      "Epoch 57/100\n",
      "6/6 [==============================] - 0s 276us/sample - loss: 0.6989\n",
      "Epoch 58/100\n",
      "6/6 [==============================] - 0s 306us/sample - loss: 0.6845\n",
      "Epoch 59/100\n",
      "6/6 [==============================] - 0s 307us/sample - loss: 0.6705\n",
      "Epoch 60/100\n",
      "6/6 [==============================] - 0s 299us/sample - loss: 0.6567\n",
      "Epoch 61/100\n",
      "6/6 [==============================] - 0s 233us/sample - loss: 0.6432\n",
      "Epoch 62/100\n",
      "6/6 [==============================] - 0s 286us/sample - loss: 0.6300\n",
      "Epoch 63/100\n",
      "6/6 [==============================] - 0s 242us/sample - loss: 0.6170\n",
      "Epoch 64/100\n",
      "6/6 [==============================] - 0s 231us/sample - loss: 0.6044\n",
      "Epoch 65/100\n",
      "6/6 [==============================] - 0s 237us/sample - loss: 0.5919\n",
      "Epoch 66/100\n",
      "6/6 [==============================] - 0s 237us/sample - loss: 0.5798\n",
      "Epoch 67/100\n",
      "6/6 [==============================] - 0s 244us/sample - loss: 0.5679\n",
      "Epoch 68/100\n",
      "6/6 [==============================] - 0s 223us/sample - loss: 0.5562\n",
      "Epoch 69/100\n",
      "6/6 [==============================] - 0s 240us/sample - loss: 0.5448\n",
      "Epoch 70/100\n",
      "6/6 [==============================] - 0s 239us/sample - loss: 0.5336\n",
      "Epoch 71/100\n",
      "6/6 [==============================] - 0s 250us/sample - loss: 0.5226\n",
      "Epoch 72/100\n",
      "6/6 [==============================] - 0s 220us/sample - loss: 0.5119\n",
      "Epoch 73/100\n",
      "6/6 [==============================] - 0s 239us/sample - loss: 0.5014\n",
      "Epoch 74/100\n",
      "6/6 [==============================] - 0s 306us/sample - loss: 0.4911\n",
      "Epoch 75/100\n",
      "6/6 [==============================] - 0s 269us/sample - loss: 0.4810\n",
      "Epoch 76/100\n",
      "6/6 [==============================] - 0s 244us/sample - loss: 0.4711\n",
      "Epoch 77/100\n",
      "6/6 [==============================] - 0s 234us/sample - loss: 0.4614\n",
      "Epoch 78/100\n",
      "6/6 [==============================] - 0s 278us/sample - loss: 0.4520\n",
      "Epoch 79/100\n",
      "6/6 [==============================] - 0s 242us/sample - loss: 0.4427\n",
      "Epoch 80/100\n",
      "6/6 [==============================] - 0s 240us/sample - loss: 0.4336\n",
      "Epoch 81/100\n",
      "6/6 [==============================] - 0s 346us/sample - loss: 0.4247\n",
      "Epoch 82/100\n",
      "6/6 [==============================] - 0s 518us/sample - loss: 0.4159\n",
      "Epoch 83/100\n",
      "6/6 [==============================] - 0s 335us/sample - loss: 0.4074\n",
      "Epoch 84/100\n",
      "6/6 [==============================] - 0s 309us/sample - loss: 0.3990\n",
      "Epoch 85/100\n",
      "6/6 [==============================] - 0s 381us/sample - loss: 0.3908\n",
      "Epoch 86/100\n",
      "6/6 [==============================] - 0s 270us/sample - loss: 0.3828\n",
      "Epoch 87/100\n",
      "6/6 [==============================] - 0s 461us/sample - loss: 0.3749\n",
      "Epoch 88/100\n",
      "6/6 [==============================] - 0s 341us/sample - loss: 0.3672\n",
      "Epoch 89/100\n",
      "6/6 [==============================] - 0s 298us/sample - loss: 0.3597\n",
      "Epoch 90/100\n",
      "6/6 [==============================] - 0s 330us/sample - loss: 0.3523\n",
      "Epoch 91/100\n",
      "6/6 [==============================] - 0s 281us/sample - loss: 0.3451\n",
      "Epoch 92/100\n",
      "6/6 [==============================] - 0s 320us/sample - loss: 0.3380\n",
      "Epoch 93/100\n",
      "6/6 [==============================] - 0s 309us/sample - loss: 0.3310\n",
      "Epoch 94/100\n",
      "6/6 [==============================] - 0s 251us/sample - loss: 0.3242\n",
      "Epoch 95/100\n",
      "6/6 [==============================] - 0s 270us/sample - loss: 0.3176\n",
      "Epoch 96/100\n",
      "6/6 [==============================] - 0s 368us/sample - loss: 0.3111\n",
      "Epoch 97/100\n",
      "6/6 [==============================] - 0s 819us/sample - loss: 0.3047\n",
      "Epoch 98/100\n",
      "6/6 [==============================] - 0s 387us/sample - loss: 0.2984\n",
      "Epoch 99/100\n",
      "6/6 [==============================] - 0s 428us/sample - loss: 0.2923\n"
     ]
    },
    {
     "name": "stdout",
     "output_type": "stream",
     "text": [
      "Epoch 100/100\n",
      "\r",
      "6/6 [==============================] - 0s 262us/sample - loss: 0.2863\n"
     ]
    },
    {
     "data": {
      "text/plain": [
       "<tensorflow.python.keras.callbacks.History at 0x7fdd774cc4e0>"
      ]
     },
     "execution_count": 6,
     "metadata": {},
     "output_type": "execute_result"
    }
   ],
   "source": [
    "model.fit(xs, ys, epochs=100)"
   ]
  },
  {
   "cell_type": "code",
   "execution_count": 7,
   "metadata": {},
   "outputs": [
    {
     "data": {
      "text/plain": [
       "array([[17.438747]], dtype=float32)"
      ]
     },
     "execution_count": 7,
     "metadata": {},
     "output_type": "execute_result"
    }
   ],
   "source": [
    "model.predict([10])"
   ]
  }
 ],
 "metadata": {
  "kernelspec": {
   "display_name": "Python 3.6.8 64-bit",
   "language": "python",
   "name": "python36864bit67d78df6e2e34146afd4f5bcc8312d38"
  },
  "language_info": {
   "codemirror_mode": {
    "name": "ipython",
    "version": 3
   },
   "file_extension": ".py",
   "mimetype": "text/x-python",
   "name": "python",
   "nbconvert_exporter": "python",
   "pygments_lexer": "ipython3",
   "version": "3.6.8"
  }
 },
 "nbformat": 4,
 "nbformat_minor": 2
}
